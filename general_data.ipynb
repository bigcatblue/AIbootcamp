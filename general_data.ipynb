{
 "cells": [
  {
   "cell_type": "code",
   "execution_count": 15,
   "metadata": {},
   "outputs": [],
   "source": [
    "import random\n",
    "\n",
    "companies = [\"Accenture\", \"Wippro\", \"NCS\", \"Avepoint\",\"KPMG\",\"Cognizant\"]\n",
    "roles = [\"Software Engineer\", \"UX Designer\", \"Business Analyst\", \"Full Stack Developer\", \"Delivery Manager\"]\n",
    "seniorities = [\"Associate\", \"Engineer\", \"Senior Engineer\"]\n",
    "\n",
    "def generate_cost(seniority):\n",
    "    if seniority == \"Associate\":\n",
    "        return random.randint(50000, 65000)\n",
    "    elif seniority == \"Engineer\":\n",
    "        return random.randint(70000, 85000)\n",
    "    else:\n",
    "        return random.randint(90000, 105000)\n",
    "\n",
    "with open(\"company_data.csv\", \"w\") as f:\n",
    "    f.write(\"Company,Role,Seniority,Cost\\n\")\n",
    "    for company in companies:\n",
    "        for role in roles:\n",
    "            seniority = random.choice(seniorities)\n",
    "            cost = generate_cost(seniority)\n",
    "            f.write(f\"{company},{role},{seniority},{cost}\\n\")"
   ]
  },
  {
   "cell_type": "code",
   "execution_count": 16,
   "metadata": {},
   "outputs": [],
   "source": [
    "import sqlite3\n",
    "\n",
    "def load_data_to_database(csv_file, database_file):\n",
    "    conn = sqlite3.connect(database_file)\n",
    "    c = conn.cursor()\n",
    "\n",
    "    # Create a table if it doesn't exist\n",
    "    c.execute('''CREATE TABLE IF NOT EXISTS company_data\n",
    "                 (company TEXT, role TEXT, seniority TEXT, cost INTEGER)''')\n",
    "\n",
    "    with open(csv_file, 'r') as f:\n",
    "        for line in f:\n",
    "            if line.startswith('Company'):\n",
    "                continue  # Skip header row\n",
    "            company, role, seniority, cost = line.strip().split(',')\n",
    "            c.execute(\"INSERT INTO company_data VALUES (?, ?, ?, ?)\",\n",
    "                     (company, role, seniority, int(cost.replace('$', ''))))\n",
    "\n",
    "    conn.commit()\n",
    "    conn.close()\n",
    "\n",
    "csv_file = \"company_data.csv\"\n",
    "database_file = \"company_data.db\"\n",
    "load_data_to_database(csv_file, database_file)"
   ]
  },
  {
   "cell_type": "code",
   "execution_count": 17,
   "metadata": {},
   "outputs": [
    {
     "name": "stdout",
     "output_type": "stream",
     "text": [
      "('Accenture', 'Software Engineer', 'Senior Engineer', 94286)\n",
      "('Accenture', 'UX Designer', 'Associate', 58660)\n",
      "('Accenture', 'Business Analyst', 'Senior Engineer', 104623)\n",
      "('Accenture', 'Full Stack Developer', 'Associate', 61559)\n",
      "('Accenture', 'Delivery Manager', 'Associate', 53932)\n",
      "('Wippro', 'Software Engineer', 'Engineer', 74448)\n",
      "('Wippro', 'UX Designer', 'Engineer', 71896)\n",
      "('Wippro', 'Business Analyst', 'Associate', 57215)\n",
      "('Wippro', 'Full Stack Developer', 'Engineer', 74448)\n",
      "('Wippro', 'Delivery Manager', 'Engineer', 76343)\n",
      "('NCS', 'Software Engineer', 'Senior Engineer', 92007)\n",
      "('NCS', 'UX Designer', 'Associate', 52455)\n",
      "('NCS', 'Business Analyst', 'Senior Engineer', 91937)\n",
      "('NCS', 'Full Stack Developer', 'Senior Engineer', 101798)\n",
      "('NCS', 'Delivery Manager', 'Engineer', 70229)\n",
      "('Avepoint', 'Software Engineer', 'Associate', 58466)\n",
      "('Avepoint', 'UX Designer', 'Senior Engineer', 98425)\n",
      "('Avepoint', 'Business Analyst', 'Engineer', 79681)\n",
      "('Avepoint', 'Full Stack Developer', 'Associate', 55102)\n",
      "('Avepoint', 'Delivery Manager', 'Senior Engineer', 98956)\n",
      "('KPMG', 'Software Engineer', 'Associate', 55238)\n",
      "('KPMG', 'UX Designer', 'Engineer', 72332)\n",
      "('KPMG', 'Business Analyst', 'Engineer', 80071)\n",
      "('KPMG', 'Full Stack Developer', 'Senior Engineer', 103816)\n",
      "('KPMG', 'Delivery Manager', 'Senior Engineer', 90287)\n",
      "('Cognizant', 'Software Engineer', 'Engineer', 74569)\n",
      "('Cognizant', 'UX Designer', 'Associate', 62676)\n",
      "('Cognizant', 'Business Analyst', 'Engineer', 78791)\n",
      "('Cognizant', 'Full Stack Developer', 'Associate', 60029)\n",
      "('Cognizant', 'Delivery Manager', 'Engineer', 84042)\n"
     ]
    }
   ],
   "source": [
    "import sqlite3\n",
    "\n",
    "def list_database_entries(database_file):\n",
    "    conn = sqlite3.connect(database_file)\n",
    "    c = conn.cursor()\n",
    "\n",
    "    c.execute(\"SELECT * FROM company_data\")\n",
    "    rows = c.fetchall()\n",
    "\n",
    "    for row in rows:\n",
    "        print(row)\n",
    "\n",
    "    conn.close()\n",
    "\n",
    "database_file = \"company_data.db\"\n",
    "response = list_database_entries(database_file)\n",
    "\n"
   ]
  },
  {
   "cell_type": "code",
   "execution_count": null,
   "metadata": {},
   "outputs": [],
   "source": []
  }
 ],
 "metadata": {
  "kernelspec": {
   "display_name": "venv",
   "language": "python",
   "name": "python3"
  },
  "language_info": {
   "codemirror_mode": {
    "name": "ipython",
    "version": 3
   },
   "file_extension": ".py",
   "mimetype": "text/x-python",
   "name": "python",
   "nbconvert_exporter": "python",
   "pygments_lexer": "ipython3",
   "version": "3.12.4"
  }
 },
 "nbformat": 4,
 "nbformat_minor": 2
}
