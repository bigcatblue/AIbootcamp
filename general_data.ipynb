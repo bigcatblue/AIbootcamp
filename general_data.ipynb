{
 "cells": [
  {
   "cell_type": "code",
   "execution_count": 3,
   "metadata": {},
   "outputs": [],
   "source": [
    "import random\n",
    "\n",
    "companies = [\"Company A\", \"Company B\", \"Company C\", \"Company D\",\"Company E\",\"Company F\",]\n",
    "roles = [\"Software Engineer\", \"UX Designer\", \"Business Analyst\", \"Full Stack Developer\", \"Delivery Manager\"]\n",
    "seniority = [\"Associate\", \"Engineer\", \"Senior Engineer\"]\n",
    "\n",
    "def generate_cost(seniority):\n",
    "    if seniority == \"Associate\":\n",
    "        return random.randint(50000, 65000)\n",
    "    elif seniority == \"Engineer\":\n",
    "        return random.randint(70000, 85000)\n",
    "    else:\n",
    "        return random.randint(90000, 105000)\n",
    "\n",
    "with open(\"company_data.csv\", \"w\") as f:\n",
    "    for company in companies:\n",
    "        for role in roles:\n",
    "            seniority = random.choice(seniority)\n",
    "            cost = generate_cost(seniority)\n",
    "            f.write(f\"{company},{role},{seniority},${cost}\\n\")"
   ]
  },
  {
   "cell_type": "code",
   "execution_count": 12,
   "metadata": {},
   "outputs": [],
   "source": [
    "#create a sqllite database with the following columns company,role,seniority,cost\n",
    "\n",
    "import sqlite3\n",
    "\n",
    "def load_data_to_database(csv_file, database_file):\n",
    "    conn = sqlite3.connect(database_file)\n",
    "    c = conn.cursor()\n",
    "\n",
    "    # Create a table if it doesn't exist\n",
    "    c.execute('''CREATE TABLE IF NOT EXISTS company_data\n",
    "                 (company TEXT, role TEXT, seniority TEXT, cost INTEGER)''')\n",
    "\n",
    "    with open(csv_file, 'r') as f:\n",
    "        for line in f:\n",
    "            if line.startswith('Company'):\n",
    "                continue  # Skip header row\n",
    "            company, role, seniority, cost = line.strip().split(',')\n",
    "            print(company, role, seniority, cost)\n",
    "            c.execute(\"INSERT INTO company_data VALUES (?, ?, ?, ?)\",\n",
    "                     (company, role, seniority, int(cost)))\n",
    "\n",
    "    conn.commit()\n",
    "    conn.close()\n",
    "\n",
    "csv_file = \"company_data.csv\"\n",
    "database_file = \"company_data.db\"\n",
    "load_data_to_database(csv_file, database_file)\n"
   ]
  },
  {
   "cell_type": "code",
   "execution_count": 7,
   "metadata": {},
   "outputs": [],
   "source": [
    "import sqlite3\n",
    "\n",
    "def list_database_entries(database_file):\n",
    "    conn = sqlite3.connect(database_file)\n",
    "    c = conn.cursor()\n",
    "\n",
    "    c.execute(\"SELECT * FROM company_data\")\n",
    "    rows = c.fetchall()\n",
    "\n",
    "    for row in rows:\n",
    "        print(row)\n",
    "\n",
    "    conn.close()\n",
    "\n",
    "database_file = \"company_data.db\"\n",
    "response = list_database_entries(database_file)\n",
    "\n"
   ]
  },
  {
   "cell_type": "code",
   "execution_count": null,
   "metadata": {},
   "outputs": [],
   "source": []
  }
 ],
 "metadata": {
  "kernelspec": {
   "display_name": "venv",
   "language": "python",
   "name": "python3"
  },
  "language_info": {
   "codemirror_mode": {
    "name": "ipython",
    "version": 3
   },
   "file_extension": ".py",
   "mimetype": "text/x-python",
   "name": "python",
   "nbconvert_exporter": "python",
   "pygments_lexer": "ipython3",
   "version": "3.12.4"
  }
 },
 "nbformat": 4,
 "nbformat_minor": 2
}
